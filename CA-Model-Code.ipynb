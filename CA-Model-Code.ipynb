{
 "cells": [
  {
   "cell_type": "code",
   "execution_count": 141,
   "metadata": {},
   "outputs": [],
   "source": [
    "import math\n",
    "import numpy as np\n",
    "import gdal\n",
    "from copy import deepcopy\n"
   ]
  },
  {
   "cell_type": "code",
   "execution_count": 142,
   "metadata": {},
   "outputs": [],
   "source": [
    "def readraster(file):\n",
    "    dataSource = gdal.Open(file)\n",
    "    band = dataSource.GetRasterBand(1)\n",
    "    band = band.ReadAsArray()\n",
    "    return (dataSource, band)\n"
   ]
  },
  {
   "cell_type": "code",
   "execution_count": 143,
   "metadata": {},
   "outputs": [],
   "source": [
    "def identicalList(inList):\n",
    "    global logical\n",
    "    inList = np.array(inList)\n",
    "    logical = inList == inList[0]\n",
    "    if sum(logical) == len(inList):\n",
    "        return True\n",
    "    else:\n",
    "        return False\n"
   ]
  },
  {
   "cell_type": "code",
   "execution_count": 207,
   "metadata": {},
   "outputs": [],
   "source": [
    "def builtupAreaDifference(landcover1, landcover2, buclass=1, cellsize=30):\n",
    "    return (sum(sum(((landcover2 == buclass).astype(int) - (landcover1 == buclass).astype(int) != 0)))\n",
    "            * (cellsize**2) / 1000000)\n"
   ]
  },
  {
   "cell_type": "code",
   "execution_count": 208,
   "metadata": {},
   "outputs": [],
   "source": [
    "class landcover:\n",
    "    def __init__(self, file1, file2):\n",
    "        self.ds_lc1, self.arr_lc1 = readraster(file1)\n",
    "        self.ds_lc2, self.arr_lc2 = readraster(file2)\n",
    "        self.performChecks()\n",
    "\n",
    "    def performChecks(self):\n",
    "        # check the rows and columns of input land cover datasets\n",
    "        print(\"Checking the size of input rasters...\")\n",
    "        if (self.ds_lc1.RasterXSize == self.ds_lc2.RasterXSize) and (self.ds_lc1.RasterYSize == self.ds_lc2.RasterYSize):\n",
    "            print(\"Land cover data size matched.\")\n",
    "            self.row, self.col = (self.ds_lc1.RasterYSize, self.ds_lc1.RasterXSize)\n",
    "        else:\n",
    "            print(\"Input land cover files have different height and width.\")\n",
    "\n",
    "        # Check the number of classes in input land cover images\n",
    "        print(\"\\nChecking feature classes in land cover data...\")\n",
    "        if (self.arr_lc1.max() == self.arr_lc2.max()) and (self.arr_lc1.min() == self.arr_lc2.min()):\n",
    "            print(\"The classes in input land cover files are matched.\")\n",
    "            self.nFeature = self.arr_lc1.max() - self.arr_lc1.min() + 1\n",
    "            # print(\"HIIIIIIII : nFeature = \", self.nFeature)\n",
    "        else:\n",
    "            print(\"Input land cover data have different class values/ size.\")\n",
    "\n",
    "    def transitionMatrix(self):\n",
    "        self.tMatrix = np.random.randint(1, size=(self.nFeature, self.nFeature))\n",
    "        for x in range(0, self.row):\n",
    "            for y in range(0, self.col):\n",
    "                t1_pixel = self.arr_lc1[x, y]\n",
    "                t2_pixel = self.arr_lc2[x, y]\n",
    "                self.tMatrix[t1_pixel - 1, t2_pixel - 1] += 1\n",
    "        self.tMatrixNorm = np.random.randint(1, size=(4, 5)).astype(float)\n",
    "        print(\"\\nTransition Matrix computed, normalisation in progress..\")\n",
    "        # Creating normalised transition matrix\n",
    "        for x in range(0, self.tMatrix.shape[0]):\n",
    "            for y in range(0, self.tMatrix.shape[1]):\n",
    "                self.tMatrixNorm[x, y] = self.tMatrix[x, y] / (self.tMatrix[x, :]).sum()\n"
   ]
  },
  {
   "cell_type": "code",
   "execution_count": 209,
   "metadata": {},
   "outputs": [],
   "source": [
    "class growthFactors:\n",
    "    def __init__(self, *args):\n",
    "        self.gf = dict()\n",
    "        self.gf_ds = dict()\n",
    "        self.nFactors = len(args)\n",
    "        n = 1\n",
    "        for file in args:\n",
    "            self.gf_ds[n], self.gf[n] = readraster(file)\n",
    "            n += 1\n",
    "        self.performChecks()\n",
    "\n",
    "    def performChecks(self):\n",
    "        print(\"\\nChecking the size of input growth factors...\")\n",
    "        rows = []\n",
    "        cols = []\n",
    "        for n in range(1, self.nFactors + 1):\n",
    "            rows.append(self.gf_ds[n].RasterYSize)\n",
    "            cols.append(self.gf_ds[n].RasterXSize)\n",
    "        if (identicalList(rows) == True) and ((identicalList(cols) == True)):\n",
    "            print(\"Input factors have same row and column value.\")\n",
    "            self.row = self.gf_ds[n].RasterYSize\n",
    "            self.col = self.gf_ds[n].RasterXSize\n",
    "        else:\n",
    "            print(\"Input factors have different row and column value.\")\n"
   ]
  },
  {
   "cell_type": "code",
   "execution_count": 210,
   "metadata": {},
   "outputs": [],
   "source": [
    "class fitmodel:\n",
    "    def __init__(self, landcoverClass, growthfactorsClass, kernelSize = 3):\n",
    "        self.landcovers = landcoverClass\n",
    "        self.factors = growthfactorsClass\n",
    "        self.performChecks()\n",
    "        self.kernelSize = kernelSize\n",
    "\n",
    "    def performChecks(self):\n",
    "        print(\"\\nMatching the size of land cover and growth factors...\")\n",
    "        if (self.landcovers.row == self.factors.row) and (self.factors.col == self.factors.col):\n",
    "            print(\"Size of rasters matched.\")\n",
    "            self.row = self.factors.row\n",
    "            self.col = self.factors.col\n",
    "        else:\n",
    "            print(\"ERROR! Raster size not matched please check.\")\n",
    "\n",
    "    def setThreshold(self, builtupThreshold, *OtherThresholdsInSequence):\n",
    "        self.threshold = list(OtherThresholdsInSequence)\n",
    "        self.builtupThreshold = builtupThreshold\n",
    "        if len(self.threshold) == (len(self.factors.gf)):\n",
    "            print(\"\\nThreshold set for factors\")\n",
    "        else:\n",
    "            print(\"ERROR! Please check the number of factors.\")\n",
    "\n",
    "    def predict(self):\n",
    "        self.predicted = deepcopy(self.landcovers.arr_lc1)\n",
    "        sideMargin = math.floor(self.kernelSize / 2)\n",
    "        for x in range(sideMargin, self.row - sideMargin):\n",
    "            for y in range(sideMargin, self.col - sideMargin):\n",
    "                kernel = self.landcovers.arr_lc1[x - sideMargin : x + sideMargin + 1, y - sideMargin : y + sideMargin + 1]\n",
    "                builtupCount = sum(sum(kernel == 1))\n",
    "                # If the number of built-up cells greater than equal to assigned threshold\n",
    "                # if (builtupCount >= self.builtupThreshold):\n",
    "                if (builtupCount >= self.builtupThreshold) and (self.factors.gf[3][x, y] != 1):  # Adding exception for the restricted areas\n",
    "                    for factor in range(1, self.factors.nFactors + 1):\n",
    "                        # If the assigned thresholds are less than zero, then the smaller than rule applies, else greater than\n",
    "                        if self.threshold[factor - 1] < 0:\n",
    "                            if self.factors.gf[factor][x, y] <= abs(self.threshold[factor - 1]):\n",
    "                                self.predicted[x, y] = 1\n",
    "                                break\n",
    "                            else:\n",
    "                                pass\n",
    "                        elif self.threshold[factor - 1] > 0:\n",
    "                            if (self.factors.gf[factor][x, y] >= self.threshold[factor - 1]):\n",
    "                                self.predicted[x, y] = 1\n",
    "                                break\n",
    "                            else:\n",
    "                                pass\n",
    "                if (x % 500 == 0) and (y % 500 == 0):\n",
    "                    print(\"Row: %d, Col: %d, Builtup cells count: %d\\n\" % (x, y, builtupCount), end=\"\\r\", flush=True, )\n",
    "\n",
    "    def checkAccuracy(self):\n",
    "        # Statistical Accuracy\n",
    "        self.actualBuildup = builtupAreaDifference(self.landcovers.arr_lc1, self.landcovers.arr_lc2)\n",
    "        self.predictedBuildup = builtupAreaDifference(self.landcovers.arr_lc1, self.predicted)\n",
    "        self.spatialAccuracy = 100 - (sum(sum(( (self.predicted == 1).astype(float) - (self.landcovers.arr_lc2 == 1).astype(float) ) != 0)) / sum(sum(self.landcovers.arr_lc2 == 1))) * 100\n",
    "        \n",
    "        print(\"Actual growth: %d, Predicted growth: %d\" % (self.actualBuildup, self.predictedBuildup))\n",
    "        # Spatial Accuracy\n",
    "        print(\"Spatial accuracy: %f\" % (self.spatialAccuracy))\n",
    "\n",
    "    def exportPredicted(self, outFileName):\n",
    "        driver = gdal.GetDriverByName(\"GTiff\")\n",
    "        outdata = driver.Create(outFileName, self.col, self.row, 1, gdal.GDT_UInt16)  # option: GDT_UInt16, GDT_Float32\n",
    "        outdata.SetGeoTransform(self.landcovers.ds_lc1.GetGeoTransform())\n",
    "        outdata.SetProjection(self.landcovers.ds_lc1.GetProjection())\n",
    "        outdata.GetRasterBand(1).WriteArray(self.predicted)\n",
    "        outdata.GetRasterBand(1).SetNoDataValue(0)\n",
    "        outdata.FlushCache()\n",
    "        outdata = None\n"
   ]
  },
  {
   "cell_type": "code",
   "execution_count": 211,
   "metadata": {},
   "outputs": [],
   "source": [
    "# Input land cover GeoTIFF for two time period\n",
    "# file1 = \"LULC_2014.tif\"\n",
    "# file2 = \"LULC_2015.tif\"\n",
    "\n",
    "file1 = \"\"\n",
    "file2 = \"\"\n",
    "\n",
    "LULC2014 = \"LULC/LULC_2014.tif\"\n",
    "LULC2015 = \"LULC/LULC_2015.tif\"\n",
    "LULC2016 = \"LULC/LULC_2016.tif\"\n",
    "LULC2017 = \"LULC/LULC_2017.tif\"\n",
    "LULC2018 = \"LULC/LULC_2018.tif\"\n",
    "LULC2019 = \"LULC/LULC_2019.tif\"\n",
    "LULC2020 = \"LULC/LULC_2020.tif\"\n",
    "LULC2021 = \"LULC/LULC_2021.tif\"\n",
    "LULC2022 = \"LULC/LULC_2022.tif\"\n",
    "\n",
    "# Input all the parameters\n",
    "pop2014 = \"PopulationDensity/PD_2014.tif\"\n",
    "pop2015 = \"PopulationDensity/PD_2015.tif\"\n",
    "pop2016 = \"PopulationDensity/PD_2016.tif\"\n",
    "pop2017 = \"PopulationDensity/PD_2017.tif\"\n",
    "pop2018 = \"PopulationDensity/PD_2018.tif\"\n",
    "pop2019 = \"PopulationDensity/PD_2019.tif\"\n",
    "pop2020 = \"PopulationDensity/PD_2020.tif\"\n",
    "pop2021 = \"PopulationDensity/PD_2021.tif\"\n",
    "\n",
    "slope = \"slopeMap.tif\"\n",
    "\n",
    "road = \"primary_proximity.tif\"\n",
    "\n",
    "water2014 = \"WaterBodies/Water_2014.tif\"\n",
    "water2015 = \"WaterBodies/Water_2015.tif\"\n",
    "water2016 = \"WaterBodies/Water_2016.tif\"\n",
    "water2017 = \"WaterBodies/Water_2017.tif\"\n",
    "water2018 = \"WaterBodies/Water_2018.tif\"\n",
    "water2019 = \"WaterBodies/Water_2019.tif\"\n",
    "water2020 = \"WaterBodies/Water_2020.tif\"\n",
    "water2021 = \"WaterBodies/Water_2021.tif\"\n",
    "water2022 = \"WaterBodies/Water_2022.tif\"\n",
    "# cbd = \"cbddist.tif\"\n"
   ]
  },
  {
   "cell_type": "code",
   "execution_count": 213,
   "metadata": {},
   "outputs": [
    {
     "name": "stdout",
     "output_type": "stream",
     "text": [
      "LULC/LULC_2021.tif\n",
      "LULC/LULC_2022.tif\n",
      "PopulationDensity/PD_2021.tif\n",
      "WaterBodies/Water_2021.tif\n"
     ]
    }
   ],
   "source": [
    "y1 = 2021\n",
    "y2 = 2022\n",
    "\n",
    "LULC1 = 'file1'\n",
    "LULC2 = 'file2'\n",
    "pop = 'pop'\n",
    "water = 'water'\n",
    "\n",
    "exec(LULC1 + f\" = LULC{y1}\")\n",
    "exec(LULC2 + f\" = LULC{y2}\")\n",
    "\n",
    "exec(pop + f\" = pop{y1}\")\n",
    "\n",
    "exec(water + f\" = water{y1}\")\n",
    "\n",
    "print(file1)\n",
    "print(file2)\n",
    "print(pop)\n",
    "print(water)"
   ]
  },
  {
   "cell_type": "code",
   "execution_count": 214,
   "metadata": {},
   "outputs": [
    {
     "name": "stdout",
     "output_type": "stream",
     "text": [
      "Checking the size of input rasters...\n",
      "Land cover data size matched.\n",
      "\n",
      "Checking feature classes in land cover data...\n",
      "The classes in input land cover files are matched.\n",
      "\n",
      "Checking the size of input growth factors...\n",
      "Input factors have same row and column value.\n"
     ]
    }
   ],
   "source": [
    "# Create a land cover class which takes land cover data for two time period\n",
    "myLandcover = landcover(file1, file2)\n",
    "\n",
    "# Create a factors class that configures all the factors for the model\n",
    "# If raster layer showing restricted areas is not involved, kindly uncomment line 157, and comment-out line 158\n",
    "myFactors = growthFactors(pop, slope, road, water)\n",
    "# myFactors = growthFactors(cbd, road, pop01, slope)\n",
    "\n",
    "\n"
   ]
  },
  {
   "cell_type": "code",
   "execution_count": 215,
   "metadata": {},
   "outputs": [
    {
     "name": "stdout",
     "output_type": "stream",
     "text": [
      "\n",
      "Matching the size of land cover and growth factors...\n",
      "Size of rasters matched.\n"
     ]
    }
   ],
   "source": [
    "# Initiate the model with the above created class\n",
    "caModel = fitmodel(myLandcover, myFactors, 3)"
   ]
  },
  {
   "cell_type": "code",
   "execution_count": 216,
   "metadata": {},
   "outputs": [
    {
     "name": "stdout",
     "output_type": "stream",
     "text": [
      "\n",
      "Threshold set for factors\n"
     ]
    }
   ],
   "source": [
    "# Set the threshold values, Assign negative threshold values if less than rule is required\n",
    "# Based on the statistical and spatial accuracy displayed, the thresholds should be tweaked\n",
    "# caModel.setThreshold(2, 10000, -15, -50, -0.5)\n",
    "caModel.setThreshold(4, 30000, -15, -50, -0.5)\n",
    "# caModel.setThreshold(3, 1000, 10, -200, -0.5) # Best\n",
    "                 # (BUT, pop, slope, road, water)\n",
    "# caModel.setThreshold(3, -15000, -10000, 8000, -3)"
   ]
  },
  {
   "cell_type": "code",
   "execution_count": 217,
   "metadata": {},
   "outputs": [
    {
     "name": "stdout",
     "output_type": "stream",
     "text": [
      "Row: 500, Col: 500, Builtup cells count: 0\n",
      "Row: 500, Col: 1000, Builtup cells count: 5\n",
      "Row: 500, Col: 1500, Builtup cells count: 0\n",
      "Row: 500, Col: 2000, Builtup cells count: 0\n",
      "Row: 1000, Col: 500, Builtup cells count: 0\n",
      "Row: 1000, Col: 1000, Builtup cells count: 6\n",
      "Row: 1000, Col: 1500, Builtup cells count: 6\n",
      "Row: 1000, Col: 2000, Builtup cells count: 0\n",
      "Row: 1500, Col: 500, Builtup cells count: 0\n",
      "Row: 1500, Col: 1000, Builtup cells count: 5\n",
      "Row: 1500, Col: 1500, Builtup cells count: 0\n",
      "Row: 1500, Col: 2000, Builtup cells count: 0\n",
      "Row: 2000, Col: 500, Builtup cells count: 0\n",
      "Row: 2000, Col: 1000, Builtup cells count: 0\n",
      "Row: 2000, Col: 1500, Builtup cells count: 0\n",
      "Row: 2000, Col: 2000, Builtup cells count: 0\n",
      "\r"
     ]
    }
   ],
   "source": [
    "# Run the model\n",
    "caModel.predict()"
   ]
  },
  {
   "cell_type": "code",
   "execution_count": 218,
   "metadata": {},
   "outputs": [
    {
     "name": "stdout",
     "output_type": "stream",
     "text": [
      "Actual growth: 322, Predicted growth: 108\n",
      "Spatial accuracy: 64.034441\n"
     ]
    }
   ],
   "source": [
    "# Check the accuracy of the predicted values\n",
    "caModel.checkAccuracy()\n",
    "\n",
    "# Export the predicted layer\n",
    "# caModel.exportPredicted(\"181126_predictedlandcover_ra_30m_utm43n_PT_5.tif\")\n",
    "caModel.exportPredicted(f\"Predicted_LULC_for_{y2}.tif\")\n"
   ]
  }
 ],
 "metadata": {
  "kernelspec": {
   "display_name": "Python 3.8.10 64-bit",
   "language": "python",
   "name": "python3"
  },
  "language_info": {
   "codemirror_mode": {
    "name": "ipython",
    "version": 3
   },
   "file_extension": ".py",
   "mimetype": "text/x-python",
   "name": "python",
   "nbconvert_exporter": "python",
   "pygments_lexer": "ipython3",
   "version": "3.8.10"
  },
  "orig_nbformat": 4,
  "vscode": {
   "interpreter": {
    "hash": "916dbcbb3f70747c44a77c7bcd40155683ae19c65e1c03b4aa3499c5328201f1"
   }
  }
 },
 "nbformat": 4,
 "nbformat_minor": 2
}
